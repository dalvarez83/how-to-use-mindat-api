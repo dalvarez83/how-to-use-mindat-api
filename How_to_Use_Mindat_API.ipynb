{
 "cells": [
  {
   "cell_type": "markdown",
   "metadata": {
    "id": "qrMhTOpOyjAP"
   },
   "source": [
    "<a target=\"_blank\" href=\"https://colab.research.google.com/github/ChuBL/How-to-Use-Mindat-API/blob/main/How_to_Use_Mindat_API.ipynb\">\n",
    "  <img src=\"https://colab.research.google.com/assets/colab-badge.svg\" alt=\"Open In Colab\"/>\n",
    "</a>"
   ]
  },
  {
   "cell_type": "markdown",
   "metadata": {
    "id": "u65PipxXuNbO"
   },
   "source": [
    "# How to Use OpenMindat Data API to Query and Download Datasets\n"
   ]
  },
  {
   "cell_type": "markdown",
   "metadata": {
    "id": "OOT8B2v7odok"
   },
   "source": [
    "## 0. Access Your Mindat API Token"
   ]
  },
  {
   "cell_type": "markdown",
   "metadata": {
    "id": "59gsuIxcoiIU"
   },
   "source": [
    "[How to Get My Mindat API Key or Token?](https://www.mindat.org/a/how_to_get_my_mindat_api_key)"
   ]
  },
  {
   "cell_type": "markdown",
   "metadata": {
    "id": "YmvOE3ClX207"
   },
   "source": [
    "## 1. Dependencies (Please run this section first)"
   ]
  },
  {
   "cell_type": "code",
   "execution_count": 1,
   "metadata": {
    "id": "gpxJUYWHaPCw"
   },
   "outputs": [],
   "source": [
    "from pathlib import Path\n",
    "import os\n",
    "import sys\n",
    "import json\n",
    "import re\n",
    "import pprint\n",
    "import requests"
   ]
  },
  {
   "cell_type": "code",
   "execution_count": 2,
   "metadata": {
    "id": "zyImDhp2aYNq"
   },
   "outputs": [],
   "source": [
    "# You can change this working path according to your preference\n",
    "# If the folder didn't show up in the left column, click the refresh button\n",
    "# WORKING_DIR = \"/content/MindatAPI_folder/\"\n",
    "WORKING_DIR = \"content/\"\n",
    "Path(WORKING_DIR).mkdir(parents=True, exist_ok=True)"
   ]
  },
  {
   "cell_type": "markdown",
   "metadata": {
    "id": "RhAUoA9pcIQv"
   },
   "source": [
    "You should **avoid** placing your API token explicitly in your code if you plan to share it.\n",
    "\n",
    "For example, you can drag a text file of your token to the working directory to upload it, then access it using the following code. Or you can input it manually."
   ]
  },
  {
   "cell_type": "markdown",
   "metadata": {
    "id": "nT7M_hAccPWR"
   },
   "source": [
    "You should find your API key at [mindat.org](https://www.mindat.org/) >> `My Home Page` >> `Edit My Page`, at the bottom of the page.\n"
   ]
  },
  {
   "cell_type": "code",
   "execution_count": 3,
   "metadata": {
    "id": "QSoVg4g-eQw0"
   },
   "outputs": [],
   "source": [
    "# %%script false --no-raise-error\n",
    "# YOUR_API_KEY = \"\"\n",
    "api_key_file_dir = \"content/api_key.txt\"\n",
    "try:\n",
    "    with open(api_key_file_dir,'r') as f:\n",
    "        YOUR_API_KEY = f.read()\n",
    "except:\n",
    "    print(\"API Key Not Found. Please create a text file containing your api key \\\n",
    "            and place it in the correct directory.\")\n",
    "\n",
    "# print(YOUR_API_KEY)"
   ]
  },
  {
   "cell_type": "code",
   "execution_count": 4,
   "metadata": {
    "id": "tYg14BcheNlO"
   },
   "outputs": [],
   "source": [
    "try:\n",
    "    assert 0 != len(YOUR_API_KEY)\n",
    "except AssertionError:\n",
    "    raise Exception(\"Please set a valid API token before the start!\")"
   ]
  },
  {
   "cell_type": "markdown",
   "metadata": {
    "id": "BZb3kkEaa5HJ"
   },
   "source": [
    "## 2. Use Cases\n"
   ]
  },
  {
   "cell_type": "markdown",
   "metadata": {
    "id": "2bVXRaAPa5HK"
   },
   "source": [
    "### Get the Geomaterial Items with Selected Fields\n"
   ]
  },
  {
   "cell_type": "markdown",
   "metadata": {
    "id": "Re-0qXaqa5HK"
   },
   "source": [
    "Examples for Mindat API fields: `fields=id,longid,guid,name,updttime,mindat_formula,mindat_formula_note,ima_formula,ima_status,...`\n",
    "\n",
    "For entire fields list, see: [OpenMindat API Documentation](https://api.mindat.org/schema/redoc/#tag/items/operation/items_list)"
   ]
  },
  {
   "cell_type": "markdown",
   "metadata": {
    "id": "XDNc6JvSa5HL"
   },
   "source": [
    "A comprehensive field explanations document can be found [here](https://github.com/smrgeoinfo/How-to-Use-Mindat-API/blob/main/geomaterialfields.csv)."
   ]
  },
  {
   "cell_type": "code",
   "execution_count": 5,
   "metadata": {
    "colab": {
     "base_uri": "https://localhost:8080/"
    },
    "id": "bbbi4j5Pa5HL",
    "outputId": "c57c5978-5000-434c-ebb7-4fd8ef54169f"
   },
   "outputs": [
    {
     "data": {
      "text/plain": [
       "WindowsPath('content/mindat_items_select.json')"
      ]
     },
     "execution_count": 5,
     "metadata": {},
     "output_type": "execute_result"
    }
   ],
   "source": [
    "MINDAT_API_URL = \"https://api.mindat.org\"\n",
    "headers = {'Authorization': 'Token '+ YOUR_API_KEY}\n",
    "\n",
    "select_file_name = \"mindat_items_select.json\"\n",
    "select_file_path = Path(WORKING_DIR, select_file_name)\n",
    "select_file_path"
   ]
  },
  {
   "cell_type": "code",
   "execution_count": 6,
   "metadata": {
    "id": "sjJWzJxba5HL"
   },
   "outputs": [
    {
     "name": "stdout",
     "output_type": "stream",
     "text": [
      "Successfully saved 10 entries to content\\mindat_items_select.json\n"
     ]
    }
   ],
   "source": [
    "# set your selected fields here\n",
    "fields_str = 'id,name,mindat_formula'\n",
    "\n",
    "with open(select_file_path, 'w') as f:\n",
    "    params = {\n",
    "        'fields': fields_str, # put your selected fields here\n",
    "        'format': 'json'\n",
    "    }\n",
    "    response = requests.get(MINDAT_API_URL+\"/geomaterials/\",\n",
    "                    params=params,\n",
    "                    headers=headers)\n",
    "\n",
    "    result_data = response.json()[\"results\"]\n",
    "    json_data = {\"results\": result_data}\n",
    "\n",
    "    # Uncomment the following code to obtain more than ten results\n",
    "#     while True:\n",
    "#         try:\n",
    "#             next_url = response.json()[\"next\"]\n",
    "#             response = requests.get(next_url, headers=headers)\n",
    "#             json_data[\"results\"] += response.json()['results']\n",
    "\n",
    "#         except requests.exceptions.MissingSchema as e:\n",
    "#             # This error indicates the `next_url` is none\n",
    "#             break\n",
    "\n",
    "#     json.dump(json_data, f, indent=4)\n",
    "print(\"Successfully saved \" + str(len(json_data['results'])) + \" entries to \" + str(select_file_path))"
   ]
  },
  {
   "cell_type": "markdown",
   "metadata": {
    "id": "N-obNLZGa5HL"
   },
   "source": [
    "### Get the Geomaterial Items with Omitted Fields"
   ]
  },
  {
   "cell_type": "code",
   "execution_count": 7,
   "metadata": {
    "colab": {
     "base_uri": "https://localhost:8080/"
    },
    "id": "EkgONGY5a5HM",
    "outputId": "31f39b15-4f82-43df-a540-35aa45a2901f"
   },
   "outputs": [
    {
     "data": {
      "text/plain": [
       "WindowsPath('content/mindat_items_omit.json')"
      ]
     },
     "execution_count": 7,
     "metadata": {},
     "output_type": "execute_result"
    }
   ],
   "source": [
    "MINDAT_API_URL = \"https://api.mindat.org\"\n",
    "headers = {'Authorization': 'Token '+ YOUR_API_KEY}\n",
    "\n",
    "omit_file_name = \"mindat_items_omit.json\"\n",
    "omit_file_path = Path(WORKING_DIR, omit_file_name)\n",
    "omit_file_path"
   ]
  },
  {
   "cell_type": "code",
   "execution_count": 8,
   "metadata": {
    "colab": {
     "base_uri": "https://localhost:8080/"
    },
    "id": "u-E86IVna5HM",
    "outputId": "9d527b84-a783-4e0e-da97-dd0010f4e510"
   },
   "outputs": [
    {
     "name": "stdout",
     "output_type": "stream",
     "text": [
      "Successfully saved 10 entries to content\\mindat_items_omit.json\n"
     ]
    }
   ],
   "source": [
    "omit_str = 'id,name,updttime'\n",
    "\n",
    "\n",
    "with open(omit_file_path, 'w') as f:\n",
    "    params = {\n",
    "        'omit': omit_str,\n",
    "        'format': 'json'\n",
    "    }\n",
    "    response = requests.get(MINDAT_API_URL+\"/geomaterials/\",\n",
    "                    params=params,\n",
    "                    headers=headers)\n",
    "\n",
    "    result_data = response.json()[\"results\"]\n",
    "    json_data = {\"results\": result_data}\n",
    "\n",
    "    # Uncomment the following code to obtain more than ten results\n",
    "    # while True:\n",
    "    #     try:\n",
    "    #         next_url = response.json()[\"next\"]\n",
    "    #         response = requests.get(next_url, headers=headers)\n",
    "    #         json_data[\"results\"] += response.json()['results']\n",
    "\n",
    "    #     except requests.exceptions.MissingSchema as e:\n",
    "    #         # This error indicates the `next_url` is none\n",
    "    #         break\n",
    "\n",
    "    json.dump(json_data, f, indent=4)\n",
    "print(\"Successfully saved \" + str(len(json_data['results'])) + \" entries to \" + str(omit_file_path))"
   ]
  },
  {
   "cell_type": "markdown",
   "metadata": {
    "id": "lCu8IZeLa5HM"
   },
   "source": [
    "### Get the IMA-Approved Mineral Geomaterial Items"
   ]
  },
  {
   "cell_type": "code",
   "execution_count": 9,
   "metadata": {
    "colab": {
     "base_uri": "https://localhost:8080/"
    },
    "id": "c71OrsJia5HM",
    "outputId": "514710ff-5eeb-4db2-eb59-99e39759d58d"
   },
   "outputs": [
    {
     "data": {
      "text/plain": [
       "WindowsPath('content/mindat_items_IMA.json')"
      ]
     },
     "execution_count": 9,
     "metadata": {},
     "output_type": "execute_result"
    }
   ],
   "source": [
    "MINDAT_API_URL = \"https://api.mindat.org\"\n",
    "headers = {'Authorization': 'Token '+ YOUR_API_KEY}\n",
    "\n",
    "ima_file_name = \"mindat_items_IMA.json\"\n",
    "ima_file_path = Path(WORKING_DIR, ima_file_name)\n",
    "ima_file_path"
   ]
  },
  {
   "cell_type": "markdown",
   "metadata": {
    "id": "aliXJVnXHjWr"
   },
   "source": [
    "This query will obtain thousands of mineral species and may take a couple of minutes(4min ~)."
   ]
  },
  {
   "cell_type": "code",
   "execution_count": 10,
   "metadata": {
    "colab": {
     "base_uri": "https://localhost:8080/"
    },
    "id": "hzl4DWrza5HM",
    "outputId": "12ad75fe-3822-49c9-d974-8f85a8dae35b"
   },
   "outputs": [
    {
     "name": "stdout",
     "output_type": "stream",
     "text": [
      "Successfully saved 5960 entries to content\\mindat_items_IMA.json\n"
     ]
    }
   ],
   "source": [
    "with open(ima_file_path, 'w') as f:\n",
    "    params = {\n",
    "        'format': 'json'\n",
    "    }\n",
    "    response = requests.get(MINDAT_API_URL+\"/minerals_ima/\",\n",
    "                    params=params,\n",
    "                    headers=headers)\n",
    "\n",
    "    result_data = response.json()[\"results\"]\n",
    "    json_data = {\"results\": result_data}\n",
    "\n",
    "    while True:\n",
    "        try:\n",
    "            next_url = response.json()[\"next\"]\n",
    "            response = requests.get(next_url, headers=headers)\n",
    "            json_data[\"results\"] += response.json()['results']\n",
    "\n",
    "        except requests.exceptions.MissingSchema as e:\n",
    "            # This error indicates the `next_url` is none\n",
    "            break\n",
    "\n",
    "    json.dump(json_data, f, indent=4)\n",
    "print(\"Successfully saved \" + str(len(json_data['results'])) + \" entries to \" + str(ima_file_path))"
   ]
  },
  {
   "cell_type": "markdown",
   "metadata": {
    "id": "GNcVjmUia5HM"
   },
   "source": [
    "### Get the Geomaterial Items with Filters"
   ]
  },
  {
   "cell_type": "code",
   "execution_count": 11,
   "metadata": {
    "colab": {
     "base_uri": "https://localhost:8080/"
    },
    "id": "PDMxIxUca5HM",
    "outputId": "0bc5e502-9d42-4a01-c5bc-962fbfa523bb"
   },
   "outputs": [
    {
     "data": {
      "text/plain": [
       "WindowsPath('content/mindat_items_filter.json')"
      ]
     },
     "execution_count": 11,
     "metadata": {},
     "output_type": "execute_result"
    }
   ],
   "source": [
    "MINDAT_API_URL = \"https://api.mindat.org\"\n",
    "headers = {'Authorization': 'Token '+ YOUR_API_KEY}\n",
    "\n",
    "filter_file_name = \"mindat_items_filter.json\"\n",
    "filter_file_path = Path(WORKING_DIR, filter_file_name)\n",
    "filter_file_path"
   ]
  },
  {
   "cell_type": "markdown",
   "metadata": {
    "id": "vLn5hXkQTwQS"
   },
   "source": [
    "This query will obtain full-sized IMA mineral information from Mindat and may take a couple of minutes(6min ~)."
   ]
  },
  {
   "cell_type": "code",
   "execution_count": 12,
   "metadata": {
    "colab": {
     "base_uri": "https://localhost:8080/"
    },
    "id": "08dR3vGVa5HN",
    "outputId": "2b2a8b7c-0c24-4a41-f626-1daf91aaf07e"
   },
   "outputs": [
    {
     "name": "stdout",
     "output_type": "stream",
     "text": [
      "Successfully saved 5960 entries to content\\mindat_items_filter.json\n"
     ]
    }
   ],
   "source": [
    "filter_dict = {\n",
    "          \"ima_status\": [\n",
    "                    \"APPROVED\"\n",
    "                ], # an alternative way to obtain the IMA-approved minerals\n",
    "          #\"id_in\": '1,2',\n",
    "          #\"colour\": \"green\",\n",
    "          'format': 'json',\n",
    "          }\n",
    "\n",
    "with open(filter_file_path, 'w') as f:\n",
    "\n",
    "    response = requests.get(MINDAT_API_URL+\"/geomaterials/\",\n",
    "                    params=filter_dict,\n",
    "                    headers=headers)\n",
    "\n",
    "    result_data = response.json()[\"results\"]\n",
    "    json_data = {\"results\": result_data}\n",
    "\n",
    "    while True:\n",
    "        try:\n",
    "            next_url = response.json()[\"next\"]\n",
    "            response = requests.get(next_url, headers=headers)\n",
    "            json_data[\"results\"] += response.json()['results']\n",
    "\n",
    "        except requests.exceptions.MissingSchema as e:\n",
    "            # This error indicates the `next_url` is none\n",
    "            break\n",
    "\n",
    "    json.dump(json_data, f, indent=4)\n",
    "print(\"Successfully saved \" + str(len(json_data[\"results\"])) + \" entries to \" + str(filter_file_path))"
   ]
  },
  {
   "cell_type": "markdown",
   "metadata": {
    "id": "tJywJN-ia5HN"
   },
   "source": [
    "### Get the Geomaterial Items with Fuzzy Search"
   ]
  },
  {
   "cell_type": "code",
   "execution_count": 13,
   "metadata": {
    "colab": {
     "base_uri": "https://localhost:8080/"
    },
    "id": "T4BI-fZ3a5HN",
    "outputId": "0876fe9a-fe5c-4099-be6a-bd7c936fcdf1"
   },
   "outputs": [
    {
     "data": {
      "text/plain": [
       "WindowsPath('content/mindat_items_search.json')"
      ]
     },
     "execution_count": 13,
     "metadata": {},
     "output_type": "execute_result"
    }
   ],
   "source": [
    "MINDAT_API_URL = \"https://api.mindat.org\"\n",
    "headers = {'Authorization': 'Token '+ YOUR_API_KEY}\n",
    "\n",
    "file_name = \"mindat_items_search.json\"\n",
    "file_path = Path(WORKING_DIR, file_name)\n",
    "file_path"
   ]
  },
  {
   "cell_type": "code",
   "execution_count": 14,
   "metadata": {
    "colab": {
     "base_uri": "https://localhost:8080/"
    },
    "id": "fDL5rkR9a5HN",
    "outputId": "0198b9a4-f436-4ee7-e7a8-53a95ebd869b"
   },
   "outputs": [
    {
     "name": "stdout",
     "output_type": "stream",
     "text": [
      "Successfully saved 12 entries to content\\mindat_items_search.json\n"
     ]
    }
   ],
   "source": [
    "filter_dict = {'q': 'quartz and ruby', # input what you are about to search same as the home page\n",
    "          'format': 'json',\n",
    "          }\n",
    "\n",
    "with open(file_path, 'w') as f:\n",
    "    params = filter_dict\n",
    "\n",
    "    response = requests.get(MINDAT_API_URL+\"/geomaterials_search/\",\n",
    "                    params=params,\n",
    "                    headers=headers)\n",
    "\n",
    "    result_data = response.json()\n",
    "    json_data = {\"results\": result_data}\n",
    "\n",
    "    json.dump(json_data, f, indent=4)\n",
    "print(\"Successfully saved \" + str(len(json_data[\"results\"])) + \" entries to \" + str(file_path))"
   ]
  },
  {
   "cell_type": "markdown",
   "metadata": {
    "id": "Q3EBzJhIa5HN"
   },
   "source": [
    "### Get Single Locality"
   ]
  },
  {
   "cell_type": "code",
   "execution_count": 15,
   "metadata": {
    "colab": {
     "base_uri": "https://localhost:8080/"
    },
    "id": "mNm2Tftka5HN",
    "outputId": "f8c8738d-93c0-4e48-9cc5-10e0256da7e4"
   },
   "outputs": [
    {
     "data": {
      "text/plain": [
       "WindowsPath('content/mindat_loc_single.json')"
      ]
     },
     "execution_count": 15,
     "metadata": {},
     "output_type": "execute_result"
    }
   ],
   "source": [
    "MINDAT_API_URL = \"https://api.mindat.org\"\n",
    "headers = {'Authorization': 'Token '+ YOUR_API_KEY}\n",
    "\n",
    "sig_loc_file_name = \"mindat_loc_single.json\"\n",
    "sig_loc_file_path = Path(WORKING_DIR, sig_loc_file_name)\n",
    "sig_loc_file_path"
   ]
  },
  {
   "cell_type": "code",
   "execution_count": 16,
   "metadata": {
    "colab": {
     "base_uri": "https://localhost:8080/"
    },
    "id": "Fb-mwTn-a5HN",
    "outputId": "17b1813f-ab2a-4057-a005-d3fc97fe982a"
   },
   "outputs": [
    {
     "name": "stdout",
     "output_type": "stream",
     "text": [
      "Successfully saved the locality to content\\mindat_loc_single.json\n"
     ]
    }
   ],
   "source": [
    "with open(sig_loc_file_path, 'w') as f:\n",
    "    # The Mindat locality page for Moscow, Idaho\n",
    "    # https://www.mindat.org/loc-58150.html\n",
    "    locality_id = '306797'\n",
    "    response = requests.get(MINDAT_API_URL + '/localities/' + locality_id,\n",
    "                    headers=headers)\n",
    "    result_data = response.json()\n",
    "    json_data = {\"results\": [result_data]}\n",
    "\n",
    "    json.dump(json_data, f, indent=4)\n",
    "print(\"Successfully saved the locality to \" + str(sig_loc_file_path))"
   ]
  },
  {
   "cell_type": "markdown",
   "metadata": {
    "id": "NuLEEpYSa5HN"
   },
   "source": [
    "### Get Locality List with multiple IDs"
   ]
  },
  {
   "cell_type": "code",
   "execution_count": 17,
   "metadata": {
    "colab": {
     "base_uri": "https://localhost:8080/"
    },
    "id": "E7Vf57s-a5HO",
    "outputId": "d0ccf98a-1202-4b36-be4c-48e63ac572ee"
   },
   "outputs": [
    {
     "data": {
      "text/plain": [
       "WindowsPath('content/mindat_loc_list.json')"
      ]
     },
     "execution_count": 17,
     "metadata": {},
     "output_type": "execute_result"
    }
   ],
   "source": [
    "MINDAT_API_URL = \"https://api.mindat.org\"\n",
    "headers = {'Authorization': 'Token '+ YOUR_API_KEY}\n",
    "\n",
    "loc_file_name = \"mindat_loc_list.json\"\n",
    "loc_file_path = Path(WORKING_DIR, loc_file_name)\n",
    "loc_file_path"
   ]
  },
  {
   "cell_type": "code",
   "execution_count": 18,
   "metadata": {
    "colab": {
     "base_uri": "https://localhost:8080/"
    },
    "id": "yeBGKa7ha5HO",
    "outputId": "d53be60a-a238-47fe-d253-b29501d2a303"
   },
   "outputs": [
    {
     "name": "stdout",
     "output_type": "stream",
     "text": [
      "Successfully saved 2 entries to content\\mindat_loc_list.json\n"
     ]
    }
   ],
   "source": [
    "with open(loc_file_path, 'w') as f:\n",
    "    params = {\n",
    "        # Mindat loc ids for Moscow and Los Angeles\n",
    "        'id__in': '58150,3493',\n",
    "        'format': 'json'\n",
    "    }\n",
    "\n",
    "    response = requests.get(MINDAT_API_URL + '/localities/',\n",
    "                    params=params,\n",
    "                    headers=headers)\n",
    "\n",
    "    result_data = response.json()[\"results\"]\n",
    "    json_data = {\"results\": result_data}\n",
    "\n",
    "    while True:\n",
    "        try:\n",
    "            next_url = response.json()[\"next\"]\n",
    "            response = requests.get(next_url, headers=headers)\n",
    "            json_data[\"results\"] += response.json()['results']\n",
    "\n",
    "        except requests.exceptions.MissingSchema as e:\n",
    "            # This error indicates the `next_url` is none\n",
    "            break\n",
    "\n",
    "    json.dump(json_data, f, indent=4)\n",
    "print(\"Successfully saved \" + str(len(json_data['results'])) + \" entries to \" + str(loc_file_path))"
   ]
  },
  {
   "cell_type": "markdown",
   "metadata": {
    "id": "1hZW1eb0KL5f"
   },
   "source": [
    "# 3. Test Zone"
   ]
  },
  {
   "cell_type": "markdown",
   "metadata": {
    "id": "bzPZb-V_kCfe"
   },
   "source": [
    "### Get All the Geomaterial Items\n"
   ]
  },
  {
   "cell_type": "markdown",
   "metadata": {
    "id": "dPy7JQpYAbS1"
   },
   "source": [
    "❗Please note that this section of codes will retrieve hundreds of **MB** of data from the Mindat server.\n",
    "\n",
    "❗This operation may consume a significant time and API access quota."
   ]
  },
  {
   "cell_type": "code",
   "execution_count": 19,
   "metadata": {
    "id": "JRt7_VwxkbPf"
   },
   "outputs": [
    {
     "data": {
      "text/plain": [
       "WindowsPath('content/mindat_items_all.json')"
      ]
     },
     "execution_count": 19,
     "metadata": {},
     "output_type": "execute_result"
    }
   ],
   "source": [
    "MINDAT_API_URL = \"https://api.mindat.org\"\n",
    "headers = {'Authorization': 'Token '+ YOUR_API_KEY}\n",
    "\n",
    "all_file_name = \"mindat_items_all.json\"\n",
    "all_file_path = Path(WORKING_DIR, all_file_name)\n",
    "all_file_path"
   ]
  },
  {
   "cell_type": "code",
   "execution_count": 20,
   "metadata": {
    "id": "VzuHQxA4kx4H"
   },
   "outputs": [
    {
     "ename": "ConnectTimeout",
     "evalue": "HTTPSConnectionPool(host='api.mindat.org', port=443): Max retries exceeded with url: /geomaterials/?format=json&page=469 (Caused by ConnectTimeoutError(<urllib3.connection.HTTPSConnection object at 0x000002518B4EBEB0>, 'Connection to api.mindat.org timed out. (connect timeout=None)'))",
     "output_type": "error",
     "traceback": [
      "\u001b[1;31m---------------------------------------------------------------------------\u001b[0m",
      "\u001b[1;31mTimeoutError\u001b[0m                              Traceback (most recent call last)",
      "File \u001b[1;32mC:\\ProgramData\\anaconda3\\lib\\site-packages\\urllib3\\connection.py:174\u001b[0m, in \u001b[0;36mHTTPConnection._new_conn\u001b[1;34m(self)\u001b[0m\n\u001b[0;32m    173\u001b[0m \u001b[38;5;28;01mtry\u001b[39;00m:\n\u001b[1;32m--> 174\u001b[0m     conn \u001b[38;5;241m=\u001b[39m connection\u001b[38;5;241m.\u001b[39mcreate_connection(\n\u001b[0;32m    175\u001b[0m         (\u001b[38;5;28mself\u001b[39m\u001b[38;5;241m.\u001b[39m_dns_host, \u001b[38;5;28mself\u001b[39m\u001b[38;5;241m.\u001b[39mport), \u001b[38;5;28mself\u001b[39m\u001b[38;5;241m.\u001b[39mtimeout, \u001b[38;5;241m*\u001b[39m\u001b[38;5;241m*\u001b[39mextra_kw\n\u001b[0;32m    176\u001b[0m     )\n\u001b[0;32m    178\u001b[0m \u001b[38;5;28;01mexcept\u001b[39;00m SocketTimeout:\n",
      "File \u001b[1;32mC:\\ProgramData\\anaconda3\\lib\\site-packages\\urllib3\\util\\connection.py:95\u001b[0m, in \u001b[0;36mcreate_connection\u001b[1;34m(address, timeout, source_address, socket_options)\u001b[0m\n\u001b[0;32m     94\u001b[0m \u001b[38;5;28;01mif\u001b[39;00m err \u001b[38;5;129;01mis\u001b[39;00m \u001b[38;5;129;01mnot\u001b[39;00m \u001b[38;5;28;01mNone\u001b[39;00m:\n\u001b[1;32m---> 95\u001b[0m     \u001b[38;5;28;01mraise\u001b[39;00m err\n\u001b[0;32m     97\u001b[0m \u001b[38;5;28;01mraise\u001b[39;00m socket\u001b[38;5;241m.\u001b[39merror(\u001b[38;5;124m\"\u001b[39m\u001b[38;5;124mgetaddrinfo returns an empty list\u001b[39m\u001b[38;5;124m\"\u001b[39m)\n",
      "File \u001b[1;32mC:\\ProgramData\\anaconda3\\lib\\site-packages\\urllib3\\util\\connection.py:85\u001b[0m, in \u001b[0;36mcreate_connection\u001b[1;34m(address, timeout, source_address, socket_options)\u001b[0m\n\u001b[0;32m     84\u001b[0m     sock\u001b[38;5;241m.\u001b[39mbind(source_address)\n\u001b[1;32m---> 85\u001b[0m \u001b[43msock\u001b[49m\u001b[38;5;241;43m.\u001b[39;49m\u001b[43mconnect\u001b[49m\u001b[43m(\u001b[49m\u001b[43msa\u001b[49m\u001b[43m)\u001b[49m\n\u001b[0;32m     86\u001b[0m \u001b[38;5;28;01mreturn\u001b[39;00m sock\n",
      "\u001b[1;31mTimeoutError\u001b[0m: [WinError 10060] A connection attempt failed because the connected party did not properly respond after a period of time, or established connection failed because connected host has failed to respond",
      "\nDuring handling of the above exception, another exception occurred:\n",
      "\u001b[1;31mConnectTimeoutError\u001b[0m                       Traceback (most recent call last)",
      "File \u001b[1;32mC:\\ProgramData\\anaconda3\\lib\\site-packages\\urllib3\\connectionpool.py:703\u001b[0m, in \u001b[0;36mHTTPConnectionPool.urlopen\u001b[1;34m(self, method, url, body, headers, retries, redirect, assert_same_host, timeout, pool_timeout, release_conn, chunked, body_pos, **response_kw)\u001b[0m\n\u001b[0;32m    702\u001b[0m \u001b[38;5;66;03m# Make the request on the httplib connection object.\u001b[39;00m\n\u001b[1;32m--> 703\u001b[0m httplib_response \u001b[38;5;241m=\u001b[39m \u001b[38;5;28;43mself\u001b[39;49m\u001b[38;5;241;43m.\u001b[39;49m\u001b[43m_make_request\u001b[49m\u001b[43m(\u001b[49m\n\u001b[0;32m    704\u001b[0m \u001b[43m    \u001b[49m\u001b[43mconn\u001b[49m\u001b[43m,\u001b[49m\n\u001b[0;32m    705\u001b[0m \u001b[43m    \u001b[49m\u001b[43mmethod\u001b[49m\u001b[43m,\u001b[49m\n\u001b[0;32m    706\u001b[0m \u001b[43m    \u001b[49m\u001b[43murl\u001b[49m\u001b[43m,\u001b[49m\n\u001b[0;32m    707\u001b[0m \u001b[43m    \u001b[49m\u001b[43mtimeout\u001b[49m\u001b[38;5;241;43m=\u001b[39;49m\u001b[43mtimeout_obj\u001b[49m\u001b[43m,\u001b[49m\n\u001b[0;32m    708\u001b[0m \u001b[43m    \u001b[49m\u001b[43mbody\u001b[49m\u001b[38;5;241;43m=\u001b[39;49m\u001b[43mbody\u001b[49m\u001b[43m,\u001b[49m\n\u001b[0;32m    709\u001b[0m \u001b[43m    \u001b[49m\u001b[43mheaders\u001b[49m\u001b[38;5;241;43m=\u001b[39;49m\u001b[43mheaders\u001b[49m\u001b[43m,\u001b[49m\n\u001b[0;32m    710\u001b[0m \u001b[43m    \u001b[49m\u001b[43mchunked\u001b[49m\u001b[38;5;241;43m=\u001b[39;49m\u001b[43mchunked\u001b[49m\u001b[43m,\u001b[49m\n\u001b[0;32m    711\u001b[0m \u001b[43m\u001b[49m\u001b[43m)\u001b[49m\n\u001b[0;32m    713\u001b[0m \u001b[38;5;66;03m# If we're going to release the connection in ``finally:``, then\u001b[39;00m\n\u001b[0;32m    714\u001b[0m \u001b[38;5;66;03m# the response doesn't need to know about the connection. Otherwise\u001b[39;00m\n\u001b[0;32m    715\u001b[0m \u001b[38;5;66;03m# it will also try to release it and we'll have a double-release\u001b[39;00m\n\u001b[0;32m    716\u001b[0m \u001b[38;5;66;03m# mess.\u001b[39;00m\n",
      "File \u001b[1;32mC:\\ProgramData\\anaconda3\\lib\\site-packages\\urllib3\\connectionpool.py:386\u001b[0m, in \u001b[0;36mHTTPConnectionPool._make_request\u001b[1;34m(self, conn, method, url, timeout, chunked, **httplib_request_kw)\u001b[0m\n\u001b[0;32m    385\u001b[0m \u001b[38;5;28;01mtry\u001b[39;00m:\n\u001b[1;32m--> 386\u001b[0m     \u001b[38;5;28;43mself\u001b[39;49m\u001b[38;5;241;43m.\u001b[39;49m\u001b[43m_validate_conn\u001b[49m\u001b[43m(\u001b[49m\u001b[43mconn\u001b[49m\u001b[43m)\u001b[49m\n\u001b[0;32m    387\u001b[0m \u001b[38;5;28;01mexcept\u001b[39;00m (SocketTimeout, BaseSSLError) \u001b[38;5;28;01mas\u001b[39;00m e:\n\u001b[0;32m    388\u001b[0m     \u001b[38;5;66;03m# Py2 raises this as a BaseSSLError, Py3 raises it as socket timeout.\u001b[39;00m\n",
      "File \u001b[1;32mC:\\ProgramData\\anaconda3\\lib\\site-packages\\urllib3\\connectionpool.py:1042\u001b[0m, in \u001b[0;36mHTTPSConnectionPool._validate_conn\u001b[1;34m(self, conn)\u001b[0m\n\u001b[0;32m   1041\u001b[0m \u001b[38;5;28;01mif\u001b[39;00m \u001b[38;5;129;01mnot\u001b[39;00m \u001b[38;5;28mgetattr\u001b[39m(conn, \u001b[38;5;124m\"\u001b[39m\u001b[38;5;124msock\u001b[39m\u001b[38;5;124m\"\u001b[39m, \u001b[38;5;28;01mNone\u001b[39;00m):  \u001b[38;5;66;03m# AppEngine might not have  `.sock`\u001b[39;00m\n\u001b[1;32m-> 1042\u001b[0m     \u001b[43mconn\u001b[49m\u001b[38;5;241;43m.\u001b[39;49m\u001b[43mconnect\u001b[49m\u001b[43m(\u001b[49m\u001b[43m)\u001b[49m\n\u001b[0;32m   1044\u001b[0m \u001b[38;5;28;01mif\u001b[39;00m \u001b[38;5;129;01mnot\u001b[39;00m conn\u001b[38;5;241m.\u001b[39mis_verified:\n",
      "File \u001b[1;32mC:\\ProgramData\\anaconda3\\lib\\site-packages\\urllib3\\connection.py:358\u001b[0m, in \u001b[0;36mHTTPSConnection.connect\u001b[1;34m(self)\u001b[0m\n\u001b[0;32m    356\u001b[0m \u001b[38;5;28;01mdef\u001b[39;00m \u001b[38;5;21mconnect\u001b[39m(\u001b[38;5;28mself\u001b[39m):\n\u001b[0;32m    357\u001b[0m     \u001b[38;5;66;03m# Add certificate verification\u001b[39;00m\n\u001b[1;32m--> 358\u001b[0m     \u001b[38;5;28mself\u001b[39m\u001b[38;5;241m.\u001b[39msock \u001b[38;5;241m=\u001b[39m conn \u001b[38;5;241m=\u001b[39m \u001b[38;5;28;43mself\u001b[39;49m\u001b[38;5;241;43m.\u001b[39;49m\u001b[43m_new_conn\u001b[49m\u001b[43m(\u001b[49m\u001b[43m)\u001b[49m\n\u001b[0;32m    359\u001b[0m     hostname \u001b[38;5;241m=\u001b[39m \u001b[38;5;28mself\u001b[39m\u001b[38;5;241m.\u001b[39mhost\n",
      "File \u001b[1;32mC:\\ProgramData\\anaconda3\\lib\\site-packages\\urllib3\\connection.py:179\u001b[0m, in \u001b[0;36mHTTPConnection._new_conn\u001b[1;34m(self)\u001b[0m\n\u001b[0;32m    178\u001b[0m \u001b[38;5;28;01mexcept\u001b[39;00m SocketTimeout:\n\u001b[1;32m--> 179\u001b[0m     \u001b[38;5;28;01mraise\u001b[39;00m ConnectTimeoutError(\n\u001b[0;32m    180\u001b[0m         \u001b[38;5;28mself\u001b[39m,\n\u001b[0;32m    181\u001b[0m         \u001b[38;5;124m\"\u001b[39m\u001b[38;5;124mConnection to \u001b[39m\u001b[38;5;132;01m%s\u001b[39;00m\u001b[38;5;124m timed out. (connect timeout=\u001b[39m\u001b[38;5;132;01m%s\u001b[39;00m\u001b[38;5;124m)\u001b[39m\u001b[38;5;124m\"\u001b[39m\n\u001b[0;32m    182\u001b[0m         \u001b[38;5;241m%\u001b[39m (\u001b[38;5;28mself\u001b[39m\u001b[38;5;241m.\u001b[39mhost, \u001b[38;5;28mself\u001b[39m\u001b[38;5;241m.\u001b[39mtimeout),\n\u001b[0;32m    183\u001b[0m     )\n\u001b[0;32m    185\u001b[0m \u001b[38;5;28;01mexcept\u001b[39;00m SocketError \u001b[38;5;28;01mas\u001b[39;00m e:\n",
      "\u001b[1;31mConnectTimeoutError\u001b[0m: (<urllib3.connection.HTTPSConnection object at 0x000002518B4EBEB0>, 'Connection to api.mindat.org timed out. (connect timeout=None)')",
      "\nDuring handling of the above exception, another exception occurred:\n",
      "\u001b[1;31mMaxRetryError\u001b[0m                             Traceback (most recent call last)",
      "File \u001b[1;32mC:\\ProgramData\\anaconda3\\lib\\site-packages\\requests\\adapters.py:489\u001b[0m, in \u001b[0;36mHTTPAdapter.send\u001b[1;34m(self, request, stream, timeout, verify, cert, proxies)\u001b[0m\n\u001b[0;32m    488\u001b[0m \u001b[38;5;28;01mif\u001b[39;00m \u001b[38;5;129;01mnot\u001b[39;00m chunked:\n\u001b[1;32m--> 489\u001b[0m     resp \u001b[38;5;241m=\u001b[39m \u001b[43mconn\u001b[49m\u001b[38;5;241;43m.\u001b[39;49m\u001b[43murlopen\u001b[49m\u001b[43m(\u001b[49m\n\u001b[0;32m    490\u001b[0m \u001b[43m        \u001b[49m\u001b[43mmethod\u001b[49m\u001b[38;5;241;43m=\u001b[39;49m\u001b[43mrequest\u001b[49m\u001b[38;5;241;43m.\u001b[39;49m\u001b[43mmethod\u001b[49m\u001b[43m,\u001b[49m\n\u001b[0;32m    491\u001b[0m \u001b[43m        \u001b[49m\u001b[43murl\u001b[49m\u001b[38;5;241;43m=\u001b[39;49m\u001b[43murl\u001b[49m\u001b[43m,\u001b[49m\n\u001b[0;32m    492\u001b[0m \u001b[43m        \u001b[49m\u001b[43mbody\u001b[49m\u001b[38;5;241;43m=\u001b[39;49m\u001b[43mrequest\u001b[49m\u001b[38;5;241;43m.\u001b[39;49m\u001b[43mbody\u001b[49m\u001b[43m,\u001b[49m\n\u001b[0;32m    493\u001b[0m \u001b[43m        \u001b[49m\u001b[43mheaders\u001b[49m\u001b[38;5;241;43m=\u001b[39;49m\u001b[43mrequest\u001b[49m\u001b[38;5;241;43m.\u001b[39;49m\u001b[43mheaders\u001b[49m\u001b[43m,\u001b[49m\n\u001b[0;32m    494\u001b[0m \u001b[43m        \u001b[49m\u001b[43mredirect\u001b[49m\u001b[38;5;241;43m=\u001b[39;49m\u001b[38;5;28;43;01mFalse\u001b[39;49;00m\u001b[43m,\u001b[49m\n\u001b[0;32m    495\u001b[0m \u001b[43m        \u001b[49m\u001b[43massert_same_host\u001b[49m\u001b[38;5;241;43m=\u001b[39;49m\u001b[38;5;28;43;01mFalse\u001b[39;49;00m\u001b[43m,\u001b[49m\n\u001b[0;32m    496\u001b[0m \u001b[43m        \u001b[49m\u001b[43mpreload_content\u001b[49m\u001b[38;5;241;43m=\u001b[39;49m\u001b[38;5;28;43;01mFalse\u001b[39;49;00m\u001b[43m,\u001b[49m\n\u001b[0;32m    497\u001b[0m \u001b[43m        \u001b[49m\u001b[43mdecode_content\u001b[49m\u001b[38;5;241;43m=\u001b[39;49m\u001b[38;5;28;43;01mFalse\u001b[39;49;00m\u001b[43m,\u001b[49m\n\u001b[0;32m    498\u001b[0m \u001b[43m        \u001b[49m\u001b[43mretries\u001b[49m\u001b[38;5;241;43m=\u001b[39;49m\u001b[38;5;28;43mself\u001b[39;49m\u001b[38;5;241;43m.\u001b[39;49m\u001b[43mmax_retries\u001b[49m\u001b[43m,\u001b[49m\n\u001b[0;32m    499\u001b[0m \u001b[43m        \u001b[49m\u001b[43mtimeout\u001b[49m\u001b[38;5;241;43m=\u001b[39;49m\u001b[43mtimeout\u001b[49m\u001b[43m,\u001b[49m\n\u001b[0;32m    500\u001b[0m \u001b[43m    \u001b[49m\u001b[43m)\u001b[49m\n\u001b[0;32m    502\u001b[0m \u001b[38;5;66;03m# Send the request.\u001b[39;00m\n\u001b[0;32m    503\u001b[0m \u001b[38;5;28;01melse\u001b[39;00m:\n",
      "File \u001b[1;32mC:\\ProgramData\\anaconda3\\lib\\site-packages\\urllib3\\connectionpool.py:787\u001b[0m, in \u001b[0;36mHTTPConnectionPool.urlopen\u001b[1;34m(self, method, url, body, headers, retries, redirect, assert_same_host, timeout, pool_timeout, release_conn, chunked, body_pos, **response_kw)\u001b[0m\n\u001b[0;32m    785\u001b[0m     e \u001b[38;5;241m=\u001b[39m ProtocolError(\u001b[38;5;124m\"\u001b[39m\u001b[38;5;124mConnection aborted.\u001b[39m\u001b[38;5;124m\"\u001b[39m, e)\n\u001b[1;32m--> 787\u001b[0m retries \u001b[38;5;241m=\u001b[39m \u001b[43mretries\u001b[49m\u001b[38;5;241;43m.\u001b[39;49m\u001b[43mincrement\u001b[49m\u001b[43m(\u001b[49m\n\u001b[0;32m    788\u001b[0m \u001b[43m    \u001b[49m\u001b[43mmethod\u001b[49m\u001b[43m,\u001b[49m\u001b[43m \u001b[49m\u001b[43murl\u001b[49m\u001b[43m,\u001b[49m\u001b[43m \u001b[49m\u001b[43merror\u001b[49m\u001b[38;5;241;43m=\u001b[39;49m\u001b[43me\u001b[49m\u001b[43m,\u001b[49m\u001b[43m \u001b[49m\u001b[43m_pool\u001b[49m\u001b[38;5;241;43m=\u001b[39;49m\u001b[38;5;28;43mself\u001b[39;49m\u001b[43m,\u001b[49m\u001b[43m \u001b[49m\u001b[43m_stacktrace\u001b[49m\u001b[38;5;241;43m=\u001b[39;49m\u001b[43msys\u001b[49m\u001b[38;5;241;43m.\u001b[39;49m\u001b[43mexc_info\u001b[49m\u001b[43m(\u001b[49m\u001b[43m)\u001b[49m\u001b[43m[\u001b[49m\u001b[38;5;241;43m2\u001b[39;49m\u001b[43m]\u001b[49m\n\u001b[0;32m    789\u001b[0m \u001b[43m\u001b[49m\u001b[43m)\u001b[49m\n\u001b[0;32m    790\u001b[0m retries\u001b[38;5;241m.\u001b[39msleep()\n",
      "File \u001b[1;32mC:\\ProgramData\\anaconda3\\lib\\site-packages\\urllib3\\util\\retry.py:592\u001b[0m, in \u001b[0;36mRetry.increment\u001b[1;34m(self, method, url, response, error, _pool, _stacktrace)\u001b[0m\n\u001b[0;32m    591\u001b[0m \u001b[38;5;28;01mif\u001b[39;00m new_retry\u001b[38;5;241m.\u001b[39mis_exhausted():\n\u001b[1;32m--> 592\u001b[0m     \u001b[38;5;28;01mraise\u001b[39;00m MaxRetryError(_pool, url, error \u001b[38;5;129;01mor\u001b[39;00m ResponseError(cause))\n\u001b[0;32m    594\u001b[0m log\u001b[38;5;241m.\u001b[39mdebug(\u001b[38;5;124m\"\u001b[39m\u001b[38;5;124mIncremented Retry for (url=\u001b[39m\u001b[38;5;124m'\u001b[39m\u001b[38;5;132;01m%s\u001b[39;00m\u001b[38;5;124m'\u001b[39m\u001b[38;5;124m): \u001b[39m\u001b[38;5;132;01m%r\u001b[39;00m\u001b[38;5;124m\"\u001b[39m, url, new_retry)\n",
      "\u001b[1;31mMaxRetryError\u001b[0m: HTTPSConnectionPool(host='api.mindat.org', port=443): Max retries exceeded with url: /geomaterials/?format=json&page=469 (Caused by ConnectTimeoutError(<urllib3.connection.HTTPSConnection object at 0x000002518B4EBEB0>, 'Connection to api.mindat.org timed out. (connect timeout=None)'))",
      "\nDuring handling of the above exception, another exception occurred:\n",
      "\u001b[1;31mConnectTimeout\u001b[0m                            Traceback (most recent call last)",
      "Cell \u001b[1;32mIn[20], line 14\u001b[0m\n\u001b[0;32m     12\u001b[0m \u001b[38;5;28;01mtry\u001b[39;00m:\n\u001b[0;32m     13\u001b[0m     next_url \u001b[38;5;241m=\u001b[39m response\u001b[38;5;241m.\u001b[39mjson()[\u001b[38;5;124m\"\u001b[39m\u001b[38;5;124mnext\u001b[39m\u001b[38;5;124m\"\u001b[39m]\n\u001b[1;32m---> 14\u001b[0m     response \u001b[38;5;241m=\u001b[39m \u001b[43mrequests\u001b[49m\u001b[38;5;241;43m.\u001b[39;49m\u001b[43mget\u001b[49m\u001b[43m(\u001b[49m\u001b[43mnext_url\u001b[49m\u001b[43m,\u001b[49m\u001b[43m \u001b[49m\u001b[43mheaders\u001b[49m\u001b[38;5;241;43m=\u001b[39;49m\u001b[43mheaders\u001b[49m\u001b[43m)\u001b[49m\n\u001b[0;32m     15\u001b[0m     json_data[\u001b[38;5;124m\"\u001b[39m\u001b[38;5;124mresults\u001b[39m\u001b[38;5;124m\"\u001b[39m] \u001b[38;5;241m+\u001b[39m\u001b[38;5;241m=\u001b[39m response\u001b[38;5;241m.\u001b[39mjson()[\u001b[38;5;124m'\u001b[39m\u001b[38;5;124mresults\u001b[39m\u001b[38;5;124m'\u001b[39m]\n\u001b[0;32m     17\u001b[0m \u001b[38;5;28;01mexcept\u001b[39;00m requests\u001b[38;5;241m.\u001b[39mexceptions\u001b[38;5;241m.\u001b[39mMissingSchema \u001b[38;5;28;01mas\u001b[39;00m e:\n\u001b[0;32m     18\u001b[0m     \u001b[38;5;66;03m# This error indicates the `next_url` is none\u001b[39;00m\n",
      "File \u001b[1;32mC:\\ProgramData\\anaconda3\\lib\\site-packages\\requests\\api.py:73\u001b[0m, in \u001b[0;36mget\u001b[1;34m(url, params, **kwargs)\u001b[0m\n\u001b[0;32m     62\u001b[0m \u001b[38;5;28;01mdef\u001b[39;00m \u001b[38;5;21mget\u001b[39m(url, params\u001b[38;5;241m=\u001b[39m\u001b[38;5;28;01mNone\u001b[39;00m, \u001b[38;5;241m*\u001b[39m\u001b[38;5;241m*\u001b[39mkwargs):\n\u001b[0;32m     63\u001b[0m     \u001b[38;5;124mr\u001b[39m\u001b[38;5;124;03m\"\"\"Sends a GET request.\u001b[39;00m\n\u001b[0;32m     64\u001b[0m \n\u001b[0;32m     65\u001b[0m \u001b[38;5;124;03m    :param url: URL for the new :class:`Request` object.\u001b[39;00m\n\u001b[1;32m   (...)\u001b[0m\n\u001b[0;32m     70\u001b[0m \u001b[38;5;124;03m    :rtype: requests.Response\u001b[39;00m\n\u001b[0;32m     71\u001b[0m \u001b[38;5;124;03m    \"\"\"\u001b[39;00m\n\u001b[1;32m---> 73\u001b[0m     \u001b[38;5;28;01mreturn\u001b[39;00m request(\u001b[38;5;124m\"\u001b[39m\u001b[38;5;124mget\u001b[39m\u001b[38;5;124m\"\u001b[39m, url, params\u001b[38;5;241m=\u001b[39mparams, \u001b[38;5;241m*\u001b[39m\u001b[38;5;241m*\u001b[39mkwargs)\n",
      "File \u001b[1;32mC:\\ProgramData\\anaconda3\\lib\\site-packages\\requests\\api.py:59\u001b[0m, in \u001b[0;36mrequest\u001b[1;34m(method, url, **kwargs)\u001b[0m\n\u001b[0;32m     55\u001b[0m \u001b[38;5;66;03m# By using the 'with' statement we are sure the session is closed, thus we\u001b[39;00m\n\u001b[0;32m     56\u001b[0m \u001b[38;5;66;03m# avoid leaving sockets open which can trigger a ResourceWarning in some\u001b[39;00m\n\u001b[0;32m     57\u001b[0m \u001b[38;5;66;03m# cases, and look like a memory leak in others.\u001b[39;00m\n\u001b[0;32m     58\u001b[0m \u001b[38;5;28;01mwith\u001b[39;00m sessions\u001b[38;5;241m.\u001b[39mSession() \u001b[38;5;28;01mas\u001b[39;00m session:\n\u001b[1;32m---> 59\u001b[0m     \u001b[38;5;28;01mreturn\u001b[39;00m session\u001b[38;5;241m.\u001b[39mrequest(method\u001b[38;5;241m=\u001b[39mmethod, url\u001b[38;5;241m=\u001b[39murl, \u001b[38;5;241m*\u001b[39m\u001b[38;5;241m*\u001b[39mkwargs)\n",
      "File \u001b[1;32mC:\\ProgramData\\anaconda3\\lib\\site-packages\\requests\\sessions.py:587\u001b[0m, in \u001b[0;36mSession.request\u001b[1;34m(self, method, url, params, data, headers, cookies, files, auth, timeout, allow_redirects, proxies, hooks, stream, verify, cert, json)\u001b[0m\n\u001b[0;32m    582\u001b[0m send_kwargs \u001b[38;5;241m=\u001b[39m {\n\u001b[0;32m    583\u001b[0m     \u001b[38;5;124m\"\u001b[39m\u001b[38;5;124mtimeout\u001b[39m\u001b[38;5;124m\"\u001b[39m: timeout,\n\u001b[0;32m    584\u001b[0m     \u001b[38;5;124m\"\u001b[39m\u001b[38;5;124mallow_redirects\u001b[39m\u001b[38;5;124m\"\u001b[39m: allow_redirects,\n\u001b[0;32m    585\u001b[0m }\n\u001b[0;32m    586\u001b[0m send_kwargs\u001b[38;5;241m.\u001b[39mupdate(settings)\n\u001b[1;32m--> 587\u001b[0m resp \u001b[38;5;241m=\u001b[39m \u001b[38;5;28mself\u001b[39m\u001b[38;5;241m.\u001b[39msend(prep, \u001b[38;5;241m*\u001b[39m\u001b[38;5;241m*\u001b[39msend_kwargs)\n\u001b[0;32m    589\u001b[0m \u001b[38;5;28;01mreturn\u001b[39;00m resp\n",
      "File \u001b[1;32mC:\\ProgramData\\anaconda3\\lib\\site-packages\\requests\\sessions.py:701\u001b[0m, in \u001b[0;36mSession.send\u001b[1;34m(self, request, **kwargs)\u001b[0m\n\u001b[0;32m    698\u001b[0m start \u001b[38;5;241m=\u001b[39m preferred_clock()\n\u001b[0;32m    700\u001b[0m \u001b[38;5;66;03m# Send the request\u001b[39;00m\n\u001b[1;32m--> 701\u001b[0m r \u001b[38;5;241m=\u001b[39m adapter\u001b[38;5;241m.\u001b[39msend(request, \u001b[38;5;241m*\u001b[39m\u001b[38;5;241m*\u001b[39mkwargs)\n\u001b[0;32m    703\u001b[0m \u001b[38;5;66;03m# Total elapsed time of the request (approximately)\u001b[39;00m\n\u001b[0;32m    704\u001b[0m elapsed \u001b[38;5;241m=\u001b[39m preferred_clock() \u001b[38;5;241m-\u001b[39m start\n",
      "File \u001b[1;32mC:\\ProgramData\\anaconda3\\lib\\site-packages\\requests\\adapters.py:553\u001b[0m, in \u001b[0;36mHTTPAdapter.send\u001b[1;34m(self, request, stream, timeout, verify, cert, proxies)\u001b[0m\n\u001b[0;32m    550\u001b[0m \u001b[38;5;28;01mif\u001b[39;00m \u001b[38;5;28misinstance\u001b[39m(e\u001b[38;5;241m.\u001b[39mreason, ConnectTimeoutError):\n\u001b[0;32m    551\u001b[0m     \u001b[38;5;66;03m# TODO: Remove this in 3.0.0: see #2811\u001b[39;00m\n\u001b[0;32m    552\u001b[0m     \u001b[38;5;28;01mif\u001b[39;00m \u001b[38;5;129;01mnot\u001b[39;00m \u001b[38;5;28misinstance\u001b[39m(e\u001b[38;5;241m.\u001b[39mreason, NewConnectionError):\n\u001b[1;32m--> 553\u001b[0m         \u001b[38;5;28;01mraise\u001b[39;00m ConnectTimeout(e, request\u001b[38;5;241m=\u001b[39mrequest)\n\u001b[0;32m    555\u001b[0m \u001b[38;5;28;01mif\u001b[39;00m \u001b[38;5;28misinstance\u001b[39m(e\u001b[38;5;241m.\u001b[39mreason, ResponseError):\n\u001b[0;32m    556\u001b[0m     \u001b[38;5;28;01mraise\u001b[39;00m RetryError(e, request\u001b[38;5;241m=\u001b[39mrequest)\n",
      "\u001b[1;31mConnectTimeout\u001b[0m: HTTPSConnectionPool(host='api.mindat.org', port=443): Max retries exceeded with url: /geomaterials/?format=json&page=469 (Caused by ConnectTimeoutError(<urllib3.connection.HTTPSConnection object at 0x000002518B4EBEB0>, 'Connection to api.mindat.org timed out. (connect timeout=None)'))"
     ]
    }
   ],
   "source": [
    "with open(all_file_path, 'w') as f:\n",
    "    params = {\n",
    "        'format': 'json',\n",
    "    }\n",
    "    response = requests.get(MINDAT_API_URL+\"/geomaterials/\",\n",
    "                            params=params,\n",
    "                            headers=headers)\n",
    "    result_data = response.json()[\"results\"]\n",
    "    json_data = {\"results\": result_data}\n",
    "\n",
    "    while True:\n",
    "        try:\n",
    "            next_url = response.json()[\"next\"]\n",
    "            response = requests.get(next_url, headers=headers)\n",
    "            json_data[\"results\"] += response.json()['results']\n",
    "\n",
    "        except requests.exceptions.MissingSchema as e:\n",
    "            # This error indicates the `next_url` is none\n",
    "            break\n",
    "\n",
    "    json.dump(json_data, f, indent=4)\n",
    "print(\"Successfully saved \" + str(len(json_data['results'])) + \" entries to \" + str(all_file_path))"
   ]
  },
  {
   "cell_type": "markdown",
   "metadata": {
    "id": "N1KNupx6DQ9T"
   },
   "source": [
    "### Get the Geomaterial Items with Filters"
   ]
  },
  {
   "cell_type": "code",
   "execution_count": null,
   "metadata": {
    "colab": {
     "base_uri": "https://localhost:8080/"
    },
    "id": "WIwAxXhWDQ9T",
    "outputId": "0171f0a9-7c83-4118-c3eb-c7977f520dc9"
   },
   "outputs": [
    {
     "data": {
      "text/plain": [
       "PosixPath('/content/drive/MyDrive/MindatAPI_folder/mindat_items_filter.json')"
      ]
     },
     "execution_count": 29,
     "metadata": {},
     "output_type": "execute_result"
    }
   ],
   "source": [
    "MINDAT_API_URL = \"https://api.mindat.org\"\n",
    "headers = {'Authorization': 'Token '+ YOUR_API_KEY}\n",
    "\n",
    "filter_file_name = \"mindat_items_filter.json\"\n",
    "filter_file_path = Path(WORKING_DIR, filter_file_name)\n",
    "filter_file_path"
   ]
  },
  {
   "cell_type": "code",
   "execution_count": 21,
   "metadata": {
    "colab": {
     "base_uri": "https://localhost:8080/"
    },
    "id": "zTV02q_vDQ9T",
    "outputId": "fbd55900-378e-4ea2-a890-4c5cd00e4014"
   },
   "outputs": [
    {
     "name": "stdout",
     "output_type": "stream",
     "text": [
      "Successfully saved 10 entries to content\\mindat_items_filter.json\n"
     ]
    }
   ],
   "source": [
    "filter_dict = {\n",
    "          #\"longid\": \"1:1:13:6\",\n",
    "          #\"colour\": \"green\",\n",
    "          \"guid\": \"c339183f-cf96-4ccc-96c9-6eeb7a0c81d0\",\n",
    "          'format': 'json',\n",
    "          }\n",
    "\n",
    "with open(filter_file_path, 'w') as f:\n",
    "\n",
    "    response = requests.get(MINDAT_API_URL+\"/geomaterials/\",\n",
    "                    params=filter_dict,\n",
    "                    headers=headers)\n",
    "\n",
    "    result_data = response.json()['results']\n",
    "    json_data = {\"results\": result_data}\n",
    "\n",
    "    # Uncomment the following code to obtain more than ten results\n",
    "    # while True:\n",
    "    #     try:\n",
    "    #         next_url = response.json()[\"next\"]\n",
    "    #         response = requests.get(next_url, headers=headers)\n",
    "    #         json_data[\"results\"] += response.json()['results']\n",
    "\n",
    "    #     except requests.exceptions.MissingSchema as e:\n",
    "    #         # This error indicates the `next_url` is none\n",
    "    #         break\n",
    "\n",
    "    json.dump(json_data, f, indent=4)\n",
    "print(\"Successfully saved \" + str(len(json_data[\"results\"])) + \" entries to \" + str(filter_file_path))"
   ]
  },
  {
   "cell_type": "code",
   "execution_count": null,
   "metadata": {
    "id": "936-etUwDW-d"
   },
   "outputs": [],
   "source": []
  }
 ],
 "metadata": {
  "colab": {
   "collapsed_sections": [
    "2bVXRaAPa5HK",
    "N-obNLZGa5HL",
    "lCu8IZeLa5HM",
    "GNcVjmUia5HM",
    "tJywJN-ia5HN",
    "Q3EBzJhIa5HN",
    "NuLEEpYSa5HN",
    "bzPZb-V_kCfe"
   ],
   "provenance": []
  },
  "kernelspec": {
   "display_name": "Python 3 (ipykernel)",
   "language": "python",
   "name": "python3"
  },
  "language_info": {
   "codemirror_mode": {
    "name": "ipython",
    "version": 3
   },
   "file_extension": ".py",
   "mimetype": "text/x-python",
   "name": "python",
   "nbconvert_exporter": "python",
   "pygments_lexer": "ipython3",
   "version": "3.10.9"
  }
 },
 "nbformat": 4,
 "nbformat_minor": 4
}
